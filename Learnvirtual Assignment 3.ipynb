{
 "cells": [
  {
   "cell_type": "markdown",
   "metadata": {},
   "source": [
    "# OBJECT ORIENTED PROGRAMMING"
   ]
  },
  {
   "cell_type": "markdown",
   "metadata": {},
   "source": [
    "Class for planets"
   ]
  },
  {
   "cell_type": "code",
   "execution_count": 1,
   "metadata": {},
   "outputs": [],
   "source": [
    "class planets():\n",
    "    def __init__(self,name,distance,gravity):\n",
    "        self.name=name\n",
    "        self.distance=distance\n",
    "        self.gravity=gravity\n",
    "        \n",
    "    def display_characteristic(self):\n",
    "        print(f\"These planet {self.name},is {self.distance} kilometer from the sun with a relative gravity of {self.gravity} to the earth gravity\")"
   ]
  },
  {
   "cell_type": "code",
   "execution_count": 2,
   "metadata": {},
   "outputs": [
    {
     "name": "stdout",
     "output_type": "stream",
     "text": [
      "These planet Mercury,is 5791000 kilometer from the sun with a relative gravity of 0.38 to the earth gravity\n",
      "None\n",
      "\n",
      "\n",
      "These planet Venus,is 108200000 kilometer from the sun with a relative gravity of 0.9 to the earth gravity\n",
      "None\n",
      "\n",
      "\n",
      "These planet Earth,is 149600000 kilometer from the sun with a relative gravity of 1 to the earth gravity\n",
      "None\n"
     ]
    }
   ],
   "source": [
    "planet1=planets('Mercury',5791000,0.38)\n",
    "planet2=planets('Venus',108200000,0.9)\n",
    "planet3=planets('Earth',149600000,1)\n",
    "\n",
    "print(planet1.display_characteristic())\n",
    "print('\\n')\n",
    "print(planet2.display_characteristic())\n",
    "print('\\n')\n",
    "print(planet3.display_characteristic())"
   ]
  },
  {
   "cell_type": "markdown",
   "metadata": {},
   "source": [
    "BANK CUSTOMERS AND BANK ACCOUNT CLASS"
   ]
  },
  {
   "cell_type": "code",
   "execution_count": 3,
   "metadata": {},
   "outputs": [],
   "source": [
    "class BankCustomer():\n",
    "    def __init__(self,firstname,lastname):\n",
    "        self.firstname = firstname\n",
    "        self.lastname = lastname\n",
    "\n",
    "    \n",
    "class BankAccount(BankCustomer):\n",
    "    def __init__(self, firstname,lastname,balance):\n",
    "        super().__init__(firstname,lastname)\n",
    "        self.balance=balance\n",
    "    \n",
    "        \n",
    "    def accountdetails(self):\n",
    "        print(f\"Dear {self.firstname} {self.lastname} your account balance is {self.balance}\")\n",
    "    "
   ]
  },
  {
   "cell_type": "code",
   "execution_count": 4,
   "metadata": {},
   "outputs": [],
   "source": [
    "customer1=BankAccount('Edet','Asuquo',10000)"
   ]
  },
  {
   "cell_type": "code",
   "execution_count": 5,
   "metadata": {},
   "outputs": [
    {
     "name": "stdout",
     "output_type": "stream",
     "text": [
      "Dear Edet Asuquo your account balance is 10000\n",
      "None\n"
     ]
    }
   ],
   "source": [
    "print(customer1.accountdetails())"
   ]
  },
  {
   "cell_type": "code",
   "execution_count": 6,
   "metadata": {},
   "outputs": [],
   "source": [
    "customer2=BankAccount('Edet','Asuquo',5000)"
   ]
  },
  {
   "cell_type": "code",
   "execution_count": 7,
   "metadata": {},
   "outputs": [
    {
     "name": "stdout",
     "output_type": "stream",
     "text": [
      "Dear Edet Asuquo your account balance is 5000\n",
      "None\n"
     ]
    }
   ],
   "source": [
    "print(customer2.accountdetails())"
   ]
  },
  {
   "cell_type": "code",
   "execution_count": null,
   "metadata": {},
   "outputs": [],
   "source": []
  }
 ],
 "metadata": {
  "kernelspec": {
   "display_name": "Python 3",
   "language": "python",
   "name": "python3"
  },
  "language_info": {
   "codemirror_mode": {
    "name": "ipython",
    "version": 3
   },
   "file_extension": ".py",
   "mimetype": "text/x-python",
   "name": "python",
   "nbconvert_exporter": "python",
   "pygments_lexer": "ipython3",
   "version": "3.7.2"
  }
 },
 "nbformat": 4,
 "nbformat_minor": 4
}
