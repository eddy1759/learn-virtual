{
 "cells": [
  {
   "cell_type": "markdown",
   "metadata": {},
   "source": [
    "# ATM PROGRAM"
   ]
  },
  {
   "cell_type": "code",
   "execution_count": 1,
   "metadata": {},
   "outputs": [
    {
     "name": "stdout",
     "output_type": "stream",
     "text": [
      "WELCOME TO EDET BANK PLC\n",
      "Insert your ATM card\n",
      "Enter your ATM pin: 1234\n",
      "What would you like to do?\n",
      "(i) Inquiry \n",
      "(w) Withdrawal \n",
      "(o) Others\n",
      "I\n",
      "Would you like to check your account balance?\n",
      "yes \n",
      "no\n",
      "Yes\n",
      "your account balance is 50000\n",
      "Will you like to continue?\n",
      "yes \n",
      "no\n",
      "Yes\n",
      "Enter your ATM pin: 1234\n",
      "What would you like to do?\n",
      "(i) Inquiry \n",
      "(w) Withdrawal \n",
      "(o) Others\n",
      "W\n",
      "How much will you like to withdraw?\n",
      "Withdrawal Amount: 4000\n",
      "Transaction Successful\n",
      "Remove your cash\n",
      "\n",
      "would you like to continue?\n",
      "yes \n",
      "no\n",
      "Yes\n",
      "Enter your ATM pin: 1234\n",
      "What would you like to do?\n",
      "(i) Inquiry \n",
      "(w) Withdrawal \n",
      "(o) Others\n",
      "O\n",
      "Would you like to\n",
      "(t) Transfer \n",
      "(p) Pay bills\n",
      "T\n",
      "you will be charge #100 for cash transfer\n",
      "\n",
      "Which bank are you transferring to?\n",
      "(A) Amina bank \n",
      "(F) Fatima bank \n",
      "(S) Stephen's bank \n",
      "(A2) Adeola bank \n",
      "(O) Olayinka bank \n",
      "(F2) Femi bank \n",
      "(I) Israel bank\n",
      "A\n",
      "Enter the account number: 3762822\n",
      "Amount6000\n",
      "Transaction Successful\n",
      "Will you like to continue?\n",
      "yes \n",
      "no\n",
      "No\n",
      "Thank you for banking with us\n"
     ]
    }
   ],
   "source": [
    "balance=50000\n",
    "print('WELCOME TO EDET BANK PLC')\n",
    "print('Insert your ATM card')\n",
    "while True:\n",
    "    atm_code=int(input('Enter your ATM pin: '))\n",
    "    atm_selection=input('What would you like to do?\\n(i) Inquiry \\n(w) Withdrawal \\n(o) Others\\n')\n",
    "    if atm_selection.lower()=='i':\n",
    "        inquiry=input('Would you like to check your account balance?\\nyes \\nno\\n')\n",
    "        if inquiry.lower()=='yes':\n",
    "            print('your account balance is ' + str(balance))\n",
    "            statement=input('Will you like to continue?\\nyes \\nno\\n')\n",
    "            if statement.lower()=='yes':\n",
    "                continue\n",
    "            else:\n",
    "                print('Thank you for banking with us')\n",
    "                break\n",
    "        else:\n",
    "            print('Thank you for banking with us break')\n",
    "            break\n",
    "    elif atm_selection.lower()=='w':\n",
    "        print('How much will you like to withdraw?')\n",
    "        withdrawal_amt=int(input('Withdrawal Amount: '))\n",
    "        if balance < withdrawal_amt:\n",
    "            print('sorry you have insufficient fund')\n",
    "        elif balance>withdrawal_amt:\n",
    "            print('Transaction Successful')\n",
    "            print('Remove your cash\\n')\n",
    "            balance-=withdrawal_amt\n",
    "            new_selection=input('would you like to continue?\\nyes \\nno\\n')\n",
    "            if new_selection.lower()=='yes':\n",
    "                continue\n",
    "            else:\n",
    "                break\n",
    "    elif atm_selection.lower()=='o':\n",
    "        A2=input('Would you like to\\n(t) Transfer \\n(p) Pay bills\\n')\n",
    "        if A2.lower()=='t':\n",
    "            print('you will be charge #100 for cash transfer\\n')\n",
    "            bank=input('Which bank are you transferring to?\\n(A) Amina bank \\n(F) Fatima bank \\n(S) Stephen\\'s bank \\n(A2) Adeola bank \\n(O) Olayinka bank \\n(F2) Femi bank \\n(I) Israel bank\\n')\n",
    "            if ((bank.upper()=='A') or (bank.upper()=='F') or (bank.upper()=='S') or (bank.upper()=='A2') or (bank.upper()=='O') or (bank.upper()=='F2') or (bank.upper()=='I')):\n",
    "                acct_num=int(input('Enter the account number: '))\n",
    "                amt=int(input('Amount'))\n",
    "                print('Transaction Successful')\n",
    "                balance-=amt \n",
    "                note=input('Will you like to continue?\\nyes \\nno\\n')\n",
    "                if note.lower()=='yes':\n",
    "                    continue\n",
    "                else:\n",
    "                    print('Thank you for banking with us')\n",
    "                    break\n",
    "        elif A2.lower()=='p':\n",
    "            utility = input('\\n(R) Recharge card \\n(D) Dstv \\n(G) Gotv \\n(P) Phcn\\n')\n",
    "            if utility.upper()=='R':\n",
    "                network=input('which network is it?\\n(a) Airtel \\n(g) Glo \\n(m) Mtn\\n')\n",
    "                airtime_amt=int(input('Airtime amount: '))\n",
    "                phone=int(input('Enter phone number'))\n",
    "                balance-= airtime_amt\n",
    "                cont=input('will you like to continue?\\nyes \\nno\\n')\n",
    "                if cont.lower()=='yes':\n",
    "                    continue\n",
    "                else:\n",
    "                    break\n",
    "                    \n",
    "                          \n",
    "            elif ((utility.upper()=='D') or (utility.upper()=='G') or (utility.upper()=='P')):\n",
    "                print('Service unavailable')\n",
    "                A3=input('will you like to continue?\\nYES \\nNO')\n",
    "                if A3.upper()=='YES':\n",
    "                    continue\n",
    "                else:\n",
    "                    break\n",
    "           \n",
    "                \n",
    "                                \n",
    "                \n",
    "                \n",
    "                  \n",
    "                   \n",
    "                    \n",
    "                \n",
    "                \n",
    "          "
   ]
  },
  {
   "cell_type": "markdown",
   "metadata": {},
   "source": [
    "# Maths "
   ]
  },
  {
   "cell_type": "code",
   "execution_count": 5,
   "metadata": {},
   "outputs": [],
   "source": [
    "from math import pi"
   ]
  },
  {
   "cell_type": "code",
   "execution_count": 9,
   "metadata": {},
   "outputs": [
    {
     "name": "stdout",
     "output_type": "stream",
     "text": [
      "whats the radius of the circle?: 5\n",
      "The Area of the circle is 78.53981633974483\n"
     ]
    }
   ],
   "source": [
    "#Area of a circle\n",
    "\n",
    "Radius=float(input('whats the radius of the circle?: '))\n",
    "Area = ((Radius**2) * pi)\n",
    "print('The Area of the circle is ' + str(Area))"
   ]
  }
 ],
 "metadata": {
  "kernelspec": {
   "display_name": "Python 3",
   "language": "python",
   "name": "python3"
  },
  "language_info": {
   "codemirror_mode": {
    "name": "ipython",
    "version": 3
   },
   "file_extension": ".py",
   "mimetype": "text/x-python",
   "name": "python",
   "nbconvert_exporter": "python",
   "pygments_lexer": "ipython3",
   "version": "3.7.2"
  }
 },
 "nbformat": 4,
 "nbformat_minor": 4
}
