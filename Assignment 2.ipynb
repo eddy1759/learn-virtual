{
 "cells": [
  {
   "cell_type": "markdown",
   "metadata": {},
   "source": [
    "# MULTIPLE PATTERNS USING FOR LOOP"
   ]
  },
  {
   "cell_type": "markdown",
   "metadata": {},
   "source": [
    "multiplication table"
   ]
  },
  {
   "cell_type": "code",
   "execution_count": 1,
   "metadata": {},
   "outputs": [
    {
     "name": "stdout",
     "output_type": "stream",
     "text": [
      "Enter the size of the multiplication table: 7\n",
      "1\t2\t3\t4\t5\t6\t\n",
      "2\t4\t6\t8\t10\t12\t\n",
      "3\t6\t9\t12\t15\t18\t\n",
      "4\t8\t12\t16\t20\t24\t\n",
      "5\t10\t15\t20\t25\t30\t\n",
      "6\t12\t18\t24\t30\t36\t\n"
     ]
    }
   ],
   "source": [
    "#To create a multiplication table using nested for loop\n",
    "table_size = int(input('Enter the size of the multiplication table: '))\n",
    "for i in range(1, table_size):\n",
    "    for j in range(1,table_size):\n",
    "        print(i*j,end='\\t')\n",
    "    print()\n",
    "\n",
    "                 "
   ]
  },
  {
   "cell_type": "markdown",
   "metadata": {},
   "source": [
    "HOLLOW RECTANGLE"
   ]
  },
  {
   "cell_type": "code",
   "execution_count": 2,
   "metadata": {},
   "outputs": [
    {
     "name": "stdout",
     "output_type": "stream",
     "text": [
      "Enter the length of the rectangle: 5\n",
      "Enter the breadth of the rectangle: 9\n",
      "*********\n",
      "*       *\n",
      "*       *\n",
      "*       *\n",
      "*********\n"
     ]
    }
   ],
   "source": [
    "#To create a hollow rectangle\n",
    "row=int(input('Enter the length of the rectangle: '))\n",
    "column=int(input('Enter the breadth of the rectangle: '))\n",
    "        \n",
    "for i in range(1,(row+1)):\n",
    "    for j in range(1,(column+1)):\n",
    "        if (i==1 or i==row or j==1 or j==column):\n",
    "            print('*',end='')\n",
    "        else:\n",
    "            print(' ',end='')\n",
    "    print()\n"
   ]
  },
  {
   "cell_type": "markdown",
   "metadata": {},
   "source": [
    "# FUNCTIONS"
   ]
  },
  {
   "cell_type": "markdown",
   "metadata": {},
   "source": [
    "FUNCTION THAT PRINTS A WELCOME MESSAGE FOR A USER AT EDDY'S BANK"
   ]
  },
  {
   "cell_type": "code",
   "execution_count": 13,
   "metadata": {},
   "outputs": [],
   "source": [
    "def WelcomeMessage():\n",
    "    username=input(\"What's your name: \")\n",
    "    print('Hello ' + username +'!' + ' welcome to Eddy\\'s bank')\n",
    "    "
   ]
  },
  {
   "cell_type": "code",
   "execution_count": 14,
   "metadata": {},
   "outputs": [
    {
     "name": "stdout",
     "output_type": "stream",
     "text": [
      "What's your name: Edet\n",
      "Hello Edet! welcome to Eddy's bank\n"
     ]
    }
   ],
   "source": [
    "WelcomeMessage()"
   ]
  },
  {
   "cell_type": "markdown",
   "metadata": {},
   "source": [
    "FUNCTION THAT CALCULATE BASIC ARITHMETIC OPERATIONS"
   ]
  },
  {
   "cell_type": "code",
   "execution_count": 17,
   "metadata": {},
   "outputs": [
    {
     "name": "stdout",
     "output_type": "stream",
     "text": [
      "Which of the mathematical operation are you interested in below?\n",
      "(1) Addition \n",
      "(2) Subtraction \n",
      "(3) Multiplication \n",
      "(4) Division \n",
      "(5) Floor Division \n",
      "(6) Remainder\n",
      "1\n",
      "Enter the first number: 4\n",
      "Enter the second number: 4\n",
      "The addition of  4 + 4 = 8\n",
      "Which of the mathematical operation are you interested in below?\n",
      "(1) Addition \n",
      "(2) Subtraction \n",
      "(3) Multiplication \n",
      "(4) Division \n",
      "(5) Floor Division \n",
      "(6) Remainder\n",
      "2\n",
      "Enter the first number: 5\n",
      "Enter the second number: 3\n",
      "The substraction of  5 - 3 = 2\n",
      "Which of the mathematical operation are you interested in below?\n",
      "(1) Addition \n",
      "(2) Subtraction \n",
      "(3) Multiplication \n",
      "(4) Division \n",
      "(5) Floor Division \n",
      "(6) Remainder\n",
      "3\n",
      "Enter the first number: 2\n",
      "Enter the second number: 2\n",
      "Multiplication of  2 * 2 = 4\n",
      "Which of the mathematical operation are you interested in below?\n",
      "(1) Addition \n",
      "(2) Subtraction \n",
      "(3) Multiplication \n",
      "(4) Division \n",
      "(5) Floor Division \n",
      "(6) Remainder\n",
      "4\n",
      "Enter the first number: 10\n",
      "Enter the second number: 2\n",
      "Division of  10 / 2 = 5.0\n",
      "Which of the mathematical operation are you interested in below?\n",
      "(1) Addition \n",
      "(2) Subtraction \n",
      "(3) Multiplication \n",
      "(4) Division \n",
      "(5) Floor Division \n",
      "(6) Remainder\n",
      "5\n",
      "Enter the first number: 5\n",
      "Enter the second number: 2\n",
      "Floor Division of  5 // 2 = 2\n",
      "Which of the mathematical operation are you interested in below?\n",
      "(1) Addition \n",
      "(2) Subtraction \n",
      "(3) Multiplication \n",
      "(4) Division \n",
      "(5) Floor Division \n",
      "(6) Remainder\n",
      "6\n",
      "Enter the first number: 5\n",
      "Enter the second number: 2\n",
      "Remainder of  5 % 2 = 1\n",
      "Which of the mathematical operation are you interested in below?\n",
      "(1) Addition \n",
      "(2) Subtraction \n",
      "(3) Multiplication \n",
      "(4) Division \n",
      "(5) Floor Division \n",
      "(6) Remainder\n",
      "7\n",
      "Enter the first number: 5\n",
      "Enter the second number: 5\n",
      "Your entered a wrong selection\n"
     ]
    }
   ],
   "source": [
    "def add(x,y):\n",
    "    return x+y\n",
    "def subtract(x,y):\n",
    "    return x-y\n",
    "def multiply (x,y):\n",
    "    return x*y\n",
    "def divide(x,y):\n",
    "    return x/y\n",
    "def floordivision(x,y):\n",
    "    return x//y\n",
    "def remainder(x,y):\n",
    "    return x%y\n",
    "\n",
    "while True:\n",
    "    choice=input('Which of the mathematical operation are you interested in below?\\n(1) Addition \\n(2) Subtraction \\n(3) Multiplication \\n(4) Division \\n(5) Floor Division \\n(6) Remainder\\n')\n",
    "    num1=eval(input('Enter the first number: '))\n",
    "    num2=eval(input('Enter the second number: '))\n",
    "\n",
    "    if choice == '1':\n",
    "        print('The addition of ',num1,'+',num2,'=',add(num1,num2))\n",
    "    elif choice == '2':\n",
    "        print('The substraction of ',num1,'-',num2,'=',subtract(num1,num2))\n",
    "    elif choice == '3':\n",
    "        print('Multiplication of ',num1,'*',num2,'=',multiply(num1,num2))\n",
    "    elif choice == '4':\n",
    "        print('Division of ',num1,'/',num2,'=', divide(num1,num2))\n",
    "    elif choice == '5':\n",
    "        print('Floor Division of ',num1,'//',num2,'=',floordivision(num1,num2))\n",
    "    elif choice == '6':\n",
    "        print('Remainder of ',num1,'%',num2,'=',remainder(num1,num2))\n",
    "    else:\n",
    "        print('Your entered a wrong selection')\n",
    "        break\n",
    "        \n"
   ]
  }
 ],
 "metadata": {
  "kernelspec": {
   "display_name": "Python 3",
   "language": "python",
   "name": "python3"
  },
  "language_info": {
   "codemirror_mode": {
    "name": "ipython",
    "version": 3
   },
   "file_extension": ".py",
   "mimetype": "text/x-python",
   "name": "python",
   "nbconvert_exporter": "python",
   "pygments_lexer": "ipython3",
   "version": "3.7.2"
  }
 },
 "nbformat": 4,
 "nbformat_minor": 4
}
